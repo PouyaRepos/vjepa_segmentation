{
 "cells": [
  {
   "cell_type": "markdown",
   "metadata": {},
   "source": [
    "# V-JEPA Segmentation — Colab Demo\n",
    "\n",
    "\n",
    "\n",
    "In Colab, choose **Runtime → Change runtime type → GPU** for speed.\n"
   ]
  },
  {
   "cell_type": "code",
   "execution_count": 1,
   "id": "c6aa3acf",
   "metadata": {},
   "outputs": [],
   "source": [
    "import os, sys, subprocess, shutil, shlex\n",
    "from pathlib import Path\n",
    "import urllib.request\n"
   ]
  },
  {
   "cell_type": "code",
   "execution_count": null,
   "id": "b5bede67",
   "metadata": {},
   "outputs": [
    {
     "name": "stdout",
     "output_type": "stream",
     "text": [
      "Backbone exists? True\n",
      "Head exists? True\n"
     ]
    }
   ],
   "source": [
    "\n",
    "CKPTS = Path(\"ckpts\")\n",
    "CKPTS.mkdir(exist_ok=True)\n",
    "\n",
    "vjepa_pt  = CKPTS / \"vjepa2_vitl_256.pt\"\n",
    "head_pt   = CKPTS / \"head_linear_fpn_best.pt\"\n",
    "\n",
    "print(\"Backbone exists?\", vjepa_pt.exists())\n",
    "print(\"Head exists?\", head_pt.exists())\n"
   ]
  },
  {
   "cell_type": "code",
   "execution_count": 3,
   "id": "8b47561b",
   "metadata": {},
   "outputs": [
    {
     "name": "stdout",
     "output_type": "stream",
     "text": [
      "Project root: /Users/pouyaabbasi/Documents/Projects/vjepa_segmentation\n",
      "Backbone path: ckpts/vjepa2_vitl_256.pt exists: True\n",
      "Backbone size: 5127726842 bytes\n"
     ]
    }
   ],
   "source": [
    "\n",
    "# 1) Jump to the Git repo root (fallback: climb until we find pyproject.toml/.git)\n",
    "try:\n",
    "    ROOT = subprocess.check_output([\"git\", \"rev-parse\", \"--show-toplevel\"], text=True).strip()\n",
    "except Exception:\n",
    "    # fallback: walk up parents until we see a marker file/folder\n",
    "    here = Path.cwd()\n",
    "    for p in [here, *here.parents]:\n",
    "        if (p / \".git\").exists() or (p / \"pyproject.toml\").exists():\n",
    "            ROOT = str(p); break\n",
    "    else:\n",
    "        ROOT = str(here)  # last resort\n",
    "os.chdir(ROOT)\n",
    "print(\"Project root:\", Path.cwd())\n",
    "\n",
    "# 2) Paths now relative to the repo root\n",
    "CKPTS = Path(\"ckpts\")\n",
    "CKPTS.mkdir(exist_ok=True)\n",
    "vjepa_pt = CKPTS / \"vjepa2_vitl_256.pt\"\n",
    "print(\"Backbone path:\", vjepa_pt, \"exists:\", vjepa_pt.exists())\n",
    "\n",
    "# (optional) show size if present\n",
    "if vjepa_pt.exists():\n",
    "    print(\"Backbone size:\", vjepa_pt.stat().st_size, \"bytes\")\n"
   ]
  },
  {
   "cell_type": "code",
   "execution_count": 4,
   "metadata": {
    "id": "vars"
   },
   "outputs": [
    {
     "name": "stdout",
     "output_type": "stream",
     "text": [
      "REPO_URL: https://github.com/PouyaRepos/vjepa_segmentation.git\n",
      "BRANCH: feature/vjepa2-hub\n",
      "HEAD_URL set: True\n",
      "IMAGE_PATH: samples/person.jpg\n",
      "VIDEO_PATH: samples/clip.mp4\n"
     ]
    }
   ],
   "source": [
    "\n",
    "REPO_URL = \"https://github.com/PouyaRepos/vjepa_segmentation.git\"  \n",
    "BRANCH   = \"feature/vjepa2-hub\"  # branch with V-JEPA 2.0 support\n",
    "HEAD_URL = \"https://github.com/PouyaRepos/vjepa_segmentation/releases#:~:text=Update%20README.md-,Assets,-3\"\n",
    "\n",
    "# sample inputs\n",
    "IMAGE_PATH = \"samples/person.jpg\"\n",
    "VIDEO_PATH = \"samples/clip.mp4\"\n",
    "\n",
    "print(\"REPO_URL:\", REPO_URL)\n",
    "print(\"BRANCH:\", BRANCH)\n",
    "print(\"HEAD_URL set:\", bool(HEAD_URL))\n",
    "print(\"IMAGE_PATH:\", IMAGE_PATH)\n",
    "print(\"VIDEO_PATH:\", VIDEO_PATH)"
   ]
  },
  {
   "cell_type": "code",
   "execution_count": 9,
   "metadata": {
    "id": "env"
   },
   "outputs": [
    {
     "name": "stdout",
     "output_type": "stream",
     "text": [
      "zsh:1: command not found: nvidia-smi\n",
      "No GPU (that's ok, but slower)\n",
      "Python 3.9.21\n"
     ]
    }
   ],
   "source": [
    "!nvidia-smi -L || echo \"No GPU (that's ok, but slower)\"\n",
    "!python --version\n",
    "!pip -q install -U pip\n",
    "# core libs\n",
    "!pip -q install timm einops opencv-python"
   ]
  },
  {
   "cell_type": "code",
   "execution_count": null,
   "metadata": {
    "id": "clone_install"
   },
   "outputs": [
    {
     "name": "stdout",
     "output_type": "stream",
     "text": [
      "Using existing repo root: /Users/pouyaabbasi/Documents/Projects/vjepa_segmentation\n",
      "Package import OK\n"
     ]
    }
   ],
   "source": [
    "from IPython import get_ipython\n",
    "REPO_URL = \"https://github.com/PouyaRepos/vjepa_segmentation.git\"  \n",
    "BRANCH   = \"feature/vjepa2-hub\"  # branch with V-JEPA 2.0 support\n",
    "\n",
    "\n",
    "def find_repo_root():\n",
    "    p = Path.cwd()\n",
    "    for q in [p, *p.parents]:\n",
    "        if (q / \"pyproject.toml\").exists() or (q / \".git\").exists():\n",
    "            return q\n",
    "    return None\n",
    "\n",
    "root = find_repo_root()\n",
    "\n",
    "if root:\n",
    "    os.chdir(root)\n",
    "    print(\"Using existing repo root:\", Path.cwd())\n",
    "else:\n",
    "    # Not inside the repo (e.g., Colab) → clone once\n",
    "    if not Path(\"vjepa_segmentation\").exists():\n",
    "        print(\"Cloning repo…\")\n",
    "        # ! is fine in Jupyter\n",
    "        get_ipython().system(f'git clone -b \"{BRANCH}\" \"{REPO_URL}\" vjepa_segmentation')\n",
    "    os.chdir(\"vjepa_segmentation\")\n",
    "    print(\"Entered cloned repo root:\", Path.cwd())\n",
    "\n",
    "# Ensure dirs\n",
    "Path(\"ckpts\").mkdir(exist_ok=True)\n",
    "Path(\"media\").mkdir(exist_ok=True)\n",
    "\n",
    "# Ensure package is installed (editable) if not already importable\n",
    "try:\n",
    "    import vjepa_seg  # noqa\n",
    "    print(\"Package import OK\")\n",
    "except Exception:\n",
    "    print(\"Installing package…\")\n",
    "    get_ipython().system('pip -q install -r requirements.txt || true')\n",
    "    get_ipython().system('pip -q install -e .')\n",
    "    import importlib; importlib.invalidate_caches()\n",
    "    import vjepa_seg  # noqa\n",
    "    print(\"Installed.\")\n"
   ]
  },
  {
   "cell_type": "code",
   "execution_count": 7,
   "metadata": {
    "id": "download_weights"
   },
   "outputs": [
    {
     "name": "stdout",
     "output_type": "stream",
     "text": [
      "Found backbone: ckpts/vjepa2_vitl_256.pt\n",
      "Found head: ckpts/head_linear_fpn_best.pt\n"
     ]
    }
   ],
   "source": [
    "import urllib.request\n",
    "\n",
    "# Backbone (V-JEPA2 ViT-L/16). Official link from Meta's README.\n",
    "vjepa_pt = \"ckpts/vjepa2_vitl_256.pt\"\n",
    "if not os.path.exists(vjepa_pt):\n",
    "    url = \"https://dl.fbaipublicfiles.com/vjepa2/vitl.pt\"\n",
    "    print(\"Downloading backbone ->\", vjepa_pt)\n",
    "    urllib.request.urlretrieve(url, vjepa_pt)\n",
    "else:\n",
    "    print(\"Found backbone:\", vjepa_pt)\n",
    "\n",
    "# Head checkpoint \n",
    "head_pt = \"ckpts/head_linear_fpn_best.pt\"\n",
    "if os.path.exists(head_pt):\n",
    "    print(\"Found head:\", head_pt)\n",
    "elif HEAD_URL:\n",
    "    print(\"Downloading head ->\", head_pt)\n",
    "    urllib.request.urlretrieve(HEAD_URL, head_pt)\n",
    "else:\n",
    "    print(\"No head checkpoint found and HEAD_URL not set.\\n\"\n",
    "          \"Upload ckpts/head_linear_fpn_best.pt via the Colab file browser if you want real inference.\\n\"\n",
    "          \"Otherwise, the notebook will run a dummy smoke test.\")"
   ]
  },
  {
   "cell_type": "code",
   "execution_count": 13,
   "metadata": {
    "id": "image_infer"
   },
   "outputs": [
    {
     "name": "stdout",
     "output_type": "stream",
     "text": [
      "YAML Content:\n",
      " data:\n",
      "  root: /Users/pouyaabbasi/Documents/Projects/datasets/cihp\n",
      "  num_classes: 6\n",
      "  img_size: [256, 256]\n",
      "  aug:\n",
      "    flip: true\n",
      "    color_jitter: 0.0\n",
      "\n",
      "model:\n",
      "  backbone_out_dim: 1024\n",
      "  fpn_dim: 128\n",
      "\n",
      "train:\n",
      "  epochs: 2\n",
      "  batch_size: 1\n",
      "  lr: 0.0003\n",
      "  weight_decay: 0.0001\n",
      "\n",
      "eval:\n",
      "  metric: miou\n",
      "\n",
      "infer:\n",
      "  ema_logits_alpha: 0.6\n",
      "Using device: mps\n"
     ]
    },
    {
     "name": "stderr",
     "output_type": "stream",
     "text": [
      "Using cache found in /Users/pouyaabbasi/.cache/torch/hub/facebookresearch_vjepa2_main\n",
      "/Users/pouyaabbasi/Documents/Projects/vjepa_segmentation/.venv/lib/python3.9/site-packages/timm/models/layers/__init__.py:48: FutureWarning: Importing from timm.models.layers is deprecated, please import via timm.layers\n",
      "  warnings.warn(f\"Importing from {__name__} is deprecated, please import via timm.layers\", FutureWarning)\n"
     ]
    },
    {
     "name": "stdout",
     "output_type": "stream",
     "text": [
      "[VJEPA] Overriding num_frames 64 -> 1 to avoid large attention buffers.\n",
      "[VJEPA] 292 model keys missing in checkpoint (ok if heads differ).\n",
      "[load] head weights: ckpts/head_linear_fpn_best.pt\n"
     ]
    },
    {
     "name": "stderr",
     "output_type": "stream",
     "text": [
      "/opt/homebrew/Cellar/python@3.9/3.9.21/Frameworks/Python.framework/Versions/3.9/lib/python3.9/contextlib.py:87: FutureWarning: `torch.backends.cuda.sdp_kernel()` is deprecated. In the future, this context manager will be removed. Please see `torch.nn.attention.sdpa_kernel()` for the new context manager, with updated signature.\n",
      "  self.gen = func(*args, **kwds)\n"
     ]
    },
    {
     "name": "stdout",
     "output_type": "stream",
     "text": [
      "labels present: [2, 4, 5]\n",
      "wrote media/demo_image_overlay.jpg\n"
     ]
    },
    {
     "data": {
      "image/jpeg": "[encoded data removed]",
      "text/plain": [
       "<IPython.core.display.Image object>"
      ]
     },
     "metadata": {},
     "output_type": "display_data"
    }
   ],
   "source": [
    "%%capture --no-display\n",
    "\n",
    "def run(cmd_list):\n",
    "    print(\"RUN:\", \" \".join(shlex.quote(c) for c in cmd_list))\n",
    "    return subprocess.run(cmd_list, check=False)\n",
    "\n",
    "img_exists = os.path.exists(IMAGE_PATH)\n",
    "have_head = os.path.exists(\"ckpts/head_linear_fpn_best.pt\")\n",
    "have_back = os.path.exists(\"ckpts/vjepa2_vitl_256.pt\")\n",
    "\n",
    "if not img_exists:\n",
    "    print(\"Image not found:\", IMAGE_PATH)\n",
    "else:\n",
    "    os.makedirs(\"media\", exist_ok=True)\n",
    "    if have_head and have_back:\n",
    "        cmd = [\n",
    "            \"python\",\"-m\",\"vjepa_seg.inference\",\n",
    "            \"--config\",\"configs/cihp_linear_fpn.yaml\",\n",
    "            \"--image\", IMAGE_PATH,\n",
    "            \"--out\",\"media/demo_image_overlay.jpg\",\n",
    "            \"--ckpt\",\"ckpts/head_linear_fpn_best.pt\",\n",
    "            \"--vjepa_ckpt\",\"ckpts/vjepa2_vitl_256.pt\",\n",
    "        ]\n",
    "    else:\n",
    "        cmd = [\n",
    "            \"python\",\"-m\",\"vjepa_seg.inference\",\n",
    "            \"--config\",\"configs/cihp_linear_fpn.yaml\",\n",
    "            \"--image\", IMAGE_PATH,\n",
    "            \"--out\",\"media/smoke_out.png\",\n",
    "            \"--ckpt\",\"\",\n",
    "            \"--dummy_backbone\",\"1\",\n",
    "        ]\n",
    "    run(cmd)\n",
    "\n",
    "from IPython.display import Image, display\n",
    "if os.path.exists(\"media/demo_image_overlay.jpg\"):\n",
    "    display(Image(filename=\"media/demo_image_overlay.jpg\"))\n",
    "elif os.path.exists(\"media/smoke_out.png\"):\n",
    "    display(Image(filename=\"media/smoke_out.png\"))"
   ]
  },
  {
   "cell_type": "code",
   "execution_count": 8,
   "metadata": {
    "id": "video_infer"
   },
   "outputs": [
    {
     "name": "stdout",
     "output_type": "stream",
     "text": [
      "RUN: python -m vjepa_seg.inference --config configs/cihp_linear_fpn.yaml --video samples/clip.mp4 --out out.mp4 --ema 0.6 --ckpt ckpts/head_linear_fpn_best.pt --vjepa_ckpt ckpts/vjepa2_vitl_256.pt\n",
      "YAML Content:\n",
      " data:\n",
      "  root: /Users/pouyaabbasi/Documents/Projects/datasets/cihp\n",
      "  num_classes: 6\n",
      "  img_size: [256, 256]\n",
      "  aug:\n",
      "    flip: true\n",
      "    color_jitter: 0.0\n",
      "\n",
      "model:\n",
      "  backbone_out_dim: 1024\n",
      "  fpn_dim: 128\n",
      "\n",
      "train:\n",
      "  epochs: 2\n",
      "  batch_size: 1\n",
      "  lr: 0.0003\n",
      "  weight_decay: 0.0001\n",
      "\n",
      "eval:\n",
      "  metric: miou\n",
      "\n",
      "infer:\n",
      "  ema_logits_alpha: 0.6\n",
      "Using device: mps\n"
     ]
    },
    {
     "name": "stderr",
     "output_type": "stream",
     "text": [
      "Using cache found in /Users/pouyaabbasi/.cache/torch/hub/facebookresearch_vjepa2_main\n",
      "/Users/pouyaabbasi/Documents/Projects/vjepa_segmentation/.venv/lib/python3.9/site-packages/timm/models/layers/__init__.py:48: FutureWarning: Importing from timm.models.layers is deprecated, please import via timm.layers\n",
      "  warnings.warn(f\"Importing from {__name__} is deprecated, please import via timm.layers\", FutureWarning)\n"
     ]
    },
    {
     "name": "stdout",
     "output_type": "stream",
     "text": [
      "[VJEPA] Overriding num_frames 64 -> 1 to avoid large attention buffers.\n",
      "[VJEPA] 292 model keys missing in checkpoint (ok if heads differ).\n",
      "[load] head weights: ckpts/head_linear_fpn_best.pt\n"
     ]
    },
    {
     "name": "stderr",
     "output_type": "stream",
     "text": [
      "/opt/homebrew/Cellar/python@3.9/3.9.21/Frameworks/Python.framework/Versions/3.9/lib/python3.9/contextlib.py:87: FutureWarning: `torch.backends.cuda.sdp_kernel()` is deprecated. In the future, this context manager will be removed. Please see `torch.nn.attention.sdpa_kernel()` for the new context manager, with updated signature.\n",
      "  self.gen = func(*args, **kwds)\n"
     ]
    },
    {
     "name": "stdout",
     "output_type": "stream",
     "text": [
      "[frame 0] labels: [0, 1, 2]\n",
      "[frame 1] labels: [0, 1, 2]\n",
      "[frame 2] labels: [0, 1, 2]\n",
      "[frame 3] labels: [0, 1, 2]\n",
      "[frame 4] labels: [0, 1, 2]\n",
      "wrote out.mp4\n",
      "ffmpeg version 7.1.1 Copyright (c) 2000-2025 the FFmpeg developers\n",
      "  built with Apple clang version 17.0.0 (clang-1700.0.13.3)\n",
      "  configuration: --prefix=/opt/homebrew/Cellar/ffmpeg/7.1.1_5 --enable-shared --enable-pthreads --enable-version3 --cc=clang --host-cflags= --host-ldflags='-Wl,-ld_classic' --enable-ffplay --enable-gnutls --enable-gpl --enable-libaom --enable-libaribb24 --enable-libbluray --enable-libdav1d --enable-libharfbuzz --enable-libjxl --enable-libmp3lame --enable-libopus --enable-librav1e --enable-librist --enable-librubberband --enable-libsnappy --enable-libsrt --enable-libssh --enable-libsvtav1 --enable-libtesseract --enable-libtheora --enable-libvidstab --enable-libvmaf --enable-libvorbis --enable-libvpx --enable-libwebp --enable-libx264 --enable-libx265 --enable-libxml2 --enable-libxvid --enable-lzma --enable-libfontconfig --enable-libfreetype --enable-frei0r --enable-libass --enable-libopencore-amrnb --enable-libopencore-amrwb --enable-libopenjpeg --enable-libspeex --enable-libsoxr --enable-libzmq --enable-libzimg --disable-libjack --disable-indev=jack --enable-videotoolbox --enable-audiotoolbox --enable-neon\n",
      "  libavutil      59. 39.100 / 59. 39.100\n",
      "  libavcodec     61. 19.101 / 61. 19.101\n",
      "  libavformat    61.  7.100 / 61.  7.100\n",
      "  libavdevice    61.  3.100 / 61.  3.100\n",
      "  libavfilter    10.  4.100 / 10.  4.100\n",
      "  libswscale      8.  3.100 /  8.  3.100\n",
      "  libswresample   5.  3.100 /  5.  3.100\n",
      "  libpostproc    58.  3.100 / 58.  3.100\n",
      "Input #0, mov,mp4,m4a,3gp,3g2,mj2, from 'out.mp4':\n",
      "  Metadata:\n",
      "    major_brand     : isom\n",
      "    minor_version   : 512\n",
      "    compatible_brands: isomiso2mp41\n",
      "    encoder         : Lavf61.7.100\n",
      "  Duration: 00:00:05.87, start: 0.000000, bitrate: 599 kb/s\n",
      "  Stream #0:0[0x1](und): Video: mpeg4 (Simple Profile) (mp4v / 0x7634706D), yuv420p, 224x224 [SAR 1:1 DAR 1:1], 597 kb/s, 30 fps, 30 tbr, 15360 tbn (default)\n",
      "      Metadata:\n",
      "        handler_name    : VideoHandler\n",
      "        vendor_id       : [0][0][0][0]\n",
      "Stream mapping:\n",
      "  Stream #0:0 -> #0:0 (mpeg4 (native) -> gif (native))\n",
      "Press [q] to stop, [?] for help\n",
      "Output #0, gif, to 'media/demo_video.gif':\n",
      "  Metadata:\n",
      "    major_brand     : isom\n",
      "    minor_version   : 512\n",
      "    compatible_brands: isomiso2mp41\n",
      "    encoder         : Lavf61.7.100\n",
      "  Stream #0:0(und): Video: gif, bgr8(pc, gbr/unknown/unknown, progressive), 512x512 [SAR 1:1 DAR 1:1], q=2-31, 200 kb/s, 15 fps, 100 tbn (default)\n",
      "      Metadata:\n",
      "        handler_name    : VideoHandler\n",
      "        vendor_id       : [0][0][0][0]\n",
      "        encoder         : Lavc61.19.101 gif\n",
      "\u001b[1;35m[out#0/gif @ 0x12bf23c30] \u001b[0mvideo:1758KiB audio:0KiB subtitle:0KiB other streams:0KiB global headers:0KiB muxing overhead: 0.001111%\n",
      "frame=   60 fps=0.0 q=-0.0 Lsize=    1758KiB time=00:00:04.00 bitrate=3601.1kbits/s speed=15.7x    \n"
     ]
    },
    {
     "data": {
      "text/html": [
       "<img src=\"media/demo_video.gif\" />"
      ],
      "text/plain": [
       "<IPython.core.display.HTML object>"
      ]
     },
     "metadata": {},
     "output_type": "display_data"
    }
   ],
   "source": [
    "from IPython.display import HTML, display\n",
    "\n",
    "vid_exists = os.path.exists(VIDEO_PATH)\n",
    "have_head = os.path.exists(\"ckpts/head_linear_fpn_best.pt\")\n",
    "have_back = os.path.exists(\"ckpts/vjepa2_vitl_256.pt\")\n",
    "\n",
    "def run(cmd_list):\n",
    "    print(\"RUN:\", \" \".join(shlex.quote(c) for c in cmd_list))\n",
    "    return subprocess.run(cmd_list, check=False)\n",
    "\n",
    "if not vid_exists:\n",
    "    print(\"Video not found:\", VIDEO_PATH)\n",
    "else:\n",
    "    if have_head and have_back:\n",
    "        cmd = [\n",
    "            \"python\",\"-m\",\"vjepa_seg.inference\",\n",
    "            \"--config\",\"configs/cihp_linear_fpn.yaml\",\n",
    "            \"--video\", VIDEO_PATH,\n",
    "            \"--out\",\"out.mp4\",\n",
    "            \"--ema\",\"0.6\",\n",
    "            \"--ckpt\",\"ckpts/head_linear_fpn_best.pt\",\n",
    "            \"--vjepa_ckpt\",\"ckpts/vjepa2_vitl_256.pt\",\n",
    "        ]\n",
    "    else:\n",
    "        cmd = [\n",
    "            \"python\",\"-m\",\"vjepa_seg.inference\",\n",
    "            \"--config\",\"configs/cihp_linear_fpn.yaml\",\n",
    "            \"--video\", VIDEO_PATH,\n",
    "            \"--out\",\"out.mp4\",\n",
    "            \"--ema\",\"0.0\",\n",
    "            \"--ckpt\",\"\",\n",
    "            \"--dummy_backbone\",\"1\",\n",
    "        ]\n",
    "    run(cmd)\n",
    "    \n",
    "    # Small GIF preview\n",
    "    if os.path.exists(\"out.mp4\"):\n",
    "        !ffmpeg -y -i out.mp4 -vf \"fps=15,scale=512:-1:flags=lanczos\" -t 4 media/demo_video.gif\n",
    "        if os.path.exists(\"media/demo_video.gif\"):\n",
    "            display(HTML('<img src=\"media/demo_video.gif\" />'))"
   ]
  },
  {
   "cell_type": "markdown",
   "id": "f6dd3e87",
   "metadata": {},
   "source": []
  }
 ],
 "metadata": {
  "colab": {
   "provenance": []
  },
  "kernelspec": {
   "display_name": ".venv",
   "language": "python",
   "name": "python3"
  },
  "language_info": {
   "codemirror_mode": {
    "name": "ipython",
    "version": 3
   },
   "file_extension": ".py",
   "mimetype": "text/x-python",
   "name": "python",
   "nbconvert_exporter": "python",
   "pygments_lexer": "ipython3",
   "version": "3.9.21"
  }
 },
 "nbformat": 4,
 "nbformat_minor": 5
}
